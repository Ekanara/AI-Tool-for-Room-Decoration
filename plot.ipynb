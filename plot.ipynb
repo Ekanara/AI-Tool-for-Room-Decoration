{
 "cells": [
  {
   "cell_type": "code",
   "execution_count": 31,
   "metadata": {},
   "outputs": [],
   "source": [
    "import matplotlib.pyplot as plt\n",
    "import numpy as np\n",
    "import torch\n",
    "import os\n",
    "from PIL import Image\n",
    "import torch.nn.functional as F"
   ]
  },
  {
   "cell_type": "code",
   "execution_count": 32,
   "metadata": {},
   "outputs": [],
   "source": [
    "base_dir = 'img'"
   ]
  },
  {
   "cell_type": "code",
   "execution_count": 33,
   "metadata": {},
   "outputs": [],
   "source": [
    "def calculate_cosine_score(original_image, modified_image):\n",
    "    # Convert the images to PyTorch tensors\n",
    "    original_tensor = torch.tensor(original_image, dtype=torch.float32)\n",
    "    modified_tensor = torch.tensor(modified_image, dtype=torch.float32)\n",
    "\n",
    "    # Flatten the tensors to represent the images as vectors\n",
    "    original_vector = original_tensor.flatten()\n",
    "    modified_vector = modified_tensor.flatten()\n",
    "\n",
    "    # Ensure the vectors have the same size\n",
    "    max_size = max(original_vector.size(0), modified_vector.size(0))\n",
    "    original_vector = F.pad(original_vector, (0, max_size - original_vector.size(0)), mode='constant', value=0)\n",
    "    modified_vector = F.pad(modified_vector, (0, max_size - modified_vector.size(0)), mode='constant', value=0)\n",
    "\n",
    "    # Calculate the cosine similarity\n",
    "    cosine_similarity = F.cosine_similarity(original_vector.unsqueeze(0), modified_vector.unsqueeze(0), dim=1)\n",
    "\n",
    "    return cosine_similarity.item()"
   ]
  },
  {
   "cell_type": "code",
   "execution_count": 34,
   "metadata": {},
   "outputs": [
    {
     "name": "stdout",
     "output_type": "stream",
     "text": [
      "Cosine similarity score for 1.png: 0.8999110460281372\n",
      "Cosine similarity score for 2.png: 0.7618823647499084\n",
      "Cosine similarity score for 3.png: 0.7268241047859192\n"
     ]
    }
   ],
   "source": [
    "# Set the base directory\n",
    "base_dir = 'img'\n",
    "\n",
    "# Get the list of image files in the 'original' folder\n",
    "original_folder = os.path.join(base_dir, 'original')\n",
    "original_files = os.listdir(original_folder)\n",
    "\n",
    "# Loop through the image files\n",
    "for original_file in original_files:\n",
    "    # Construct the full file paths\n",
    "    original_path = os.path.join(original_folder, original_file)\n",
    "    modified_path = os.path.join(os.path.join(base_dir, 'modified'), original_file)\n",
    "\n",
    "    # Load the images\n",
    "    original_image = np.array(Image.open(original_path))\n",
    "    modified_image = np.array(Image.open(modified_path))\n",
    "\n",
    "    # Resize the smaller image to match the larger one\n",
    "    original_size = original_image.shape[:2]\n",
    "    modified_size = modified_image.shape[:2]\n",
    "    if original_size != modified_size:\n",
    "        if original_size[0] > modified_size[0] or original_size[1] > modified_size[1]:\n",
    "            modified_image = np.array(Image.fromarray(modified_image).resize(original_size, resample=Image.BICUBIC))\n",
    "        else:\n",
    "            original_image = np.array(Image.fromarray(original_image).resize(modified_size, resample=Image.BICUBIC))\n",
    "\n",
    "    # Calculate the cosine similarity score\n",
    "    cosine_score = calculate_cosine_score(original_image, modified_image)\n",
    "    print(f\"Cosine similarity score for {original_file}: {cosine_score}\")"
   ]
  }
 ],
 "metadata": {
  "kernelspec": {
   "display_name": "Python 3",
   "language": "python",
   "name": "python3"
  },
  "language_info": {
   "codemirror_mode": {
    "name": "ipython",
    "version": 3
   },
   "file_extension": ".py",
   "mimetype": "text/x-python",
   "name": "python",
   "nbconvert_exporter": "python",
   "pygments_lexer": "ipython3",
   "version": "3.11.8"
  }
 },
 "nbformat": 4,
 "nbformat_minor": 2
}
